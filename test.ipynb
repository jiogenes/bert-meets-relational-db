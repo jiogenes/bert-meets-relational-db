{
 "cells": [
  {
   "cell_type": "code",
   "execution_count": 2,
   "metadata": {},
   "outputs": [],
   "source": [
    "import pymysql as db\n",
    "import pandas as pd\n",
    "import warnings\n",
    "warnings.filterwarnings('ignore')"
   ]
  },
  {
   "cell_type": "markdown",
   "metadata": {},
   "source": [
    "DB 연결 및 SQL문 확인"
   ]
  },
  {
   "cell_type": "code",
   "execution_count": 2,
   "metadata": {},
   "outputs": [
    {
     "name": "stdout",
     "output_type": "stream",
     "text": [
      "((20000, 'Eric', 'Aude', 'M'),)\n"
     ]
    }
   ],
   "source": [
    "# user = 'jyji'\n",
    "# password = '123123'\n",
    "# host = 'localhost'\n",
    "# dbname = 'IMDB'\n",
    "# charset = 'utf8'\n",
    "con = db.connect(host='localhost', user='jyji', password='123123', db='IMDB', charset='utf8')\n",
    "cur = con.cursor()\n",
    "sql = 'select * from actors where id=20000;'\n",
    "cur.execute(sql)\n",
    "rows = cur.fetchall()\n",
    "print(rows)\n",
    "con.close()"
   ]
  },
  {
   "cell_type": "code",
   "execution_count": 3,
   "metadata": {},
   "outputs": [],
   "source": [
    "def get_connection():\n",
    "    con = db.connect(host='localhost', user='jyji', password='123123', db='IMDB', charset='utf8')\n",
    "    return con"
   ]
  },
  {
   "cell_type": "code",
   "execution_count": 4,
   "metadata": {},
   "outputs": [
    {
     "name": "stdout",
     "output_type": "stream",
     "text": [
      "   MID                  Actor Movie              Role  Year\n",
      "0    2  Darrell (I) Armstrong     $  Associated Press  1971\n",
      "1    2          Warren Beatty     $       Joe Collins  1971\n",
      "2    2        Scott (I) Brady     $             Sarge  1971\n",
      "3    2          Arthur Brauss     $         Candy Man  1971\n",
      "4    2             Gert Fröbe     $        Mr. Kessel  1971\n"
     ]
    }
   ],
   "source": [
    "with get_connection() as con:\n",
    "    SQL = open('./SQL/movie_related_information.sql').read()\n",
    "    df = pd.read_sql(SQL, con)\n",
    "    print(df.head())\n",
    "    df.to_csv('./data/movie_related_information.csv')"
   ]
  },
  {
   "cell_type": "code",
   "execution_count": 5,
   "metadata": {},
   "outputs": [
    {
     "name": "stdout",
     "output_type": "stream",
     "text": [
      "     MID        Director                           Movie  Year\n",
      "0   1114  A. Aleksandrov                     14/1 endlos  1998\n",
      "1  17209        A. Cyran                   Animali pazzi  1939\n",
      "2  36457    A. Ignatenko  Bianco, il giallo, il nero, Il  1975\n",
      "3  36457    A. Ignatenko  Bianco, il giallo, il nero, Il  1975\n",
      "4  36457    A. Ignatenko  Bianco, il giallo, il nero, Il  1975\n"
     ]
    }
   ],
   "source": [
    "with get_connection() as con:\n",
    "    SQL = open('./SQL/director_related_information.sql').read()\n",
    "    df = pd.read_sql(SQL, con)\n",
    "    print(df.head())\n",
    "    df.to_csv('./data/director_related_information.csv')"
   ]
  },
  {
   "cell_type": "markdown",
   "metadata": {},
   "source": [
    "Pandas Dataframe으로 변환"
   ]
  },
  {
   "cell_type": "code",
   "execution_count": 10,
   "metadata": {},
   "outputs": [],
   "source": [
    "movie_df = pd.read_csv('./data/movie_related_information.csv', index_col=[0])\n",
    "director_df = pd.read_csv('./data/director_related_information.csv', index_col=[0])"
   ]
  },
  {
   "cell_type": "code",
   "execution_count": 11,
   "metadata": {},
   "outputs": [
    {
     "data": {
      "text/html": [
       "<div>\n",
       "<style scoped>\n",
       "    .dataframe tbody tr th:only-of-type {\n",
       "        vertical-align: middle;\n",
       "    }\n",
       "\n",
       "    .dataframe tbody tr th {\n",
       "        vertical-align: top;\n",
       "    }\n",
       "\n",
       "    .dataframe thead th {\n",
       "        text-align: right;\n",
       "    }\n",
       "</style>\n",
       "<table border=\"1\" class=\"dataframe\">\n",
       "  <thead>\n",
       "    <tr style=\"text-align: right;\">\n",
       "      <th></th>\n",
       "      <th>MID</th>\n",
       "      <th>Actor</th>\n",
       "      <th>Movie</th>\n",
       "      <th>Role</th>\n",
       "      <th>Year</th>\n",
       "    </tr>\n",
       "  </thead>\n",
       "  <tbody>\n",
       "    <tr>\n",
       "      <th>0</th>\n",
       "      <td>2</td>\n",
       "      <td>Darrell (I) Armstrong</td>\n",
       "      <td>$</td>\n",
       "      <td>Associated Press</td>\n",
       "      <td>1971</td>\n",
       "    </tr>\n",
       "    <tr>\n",
       "      <th>1</th>\n",
       "      <td>2</td>\n",
       "      <td>Warren Beatty</td>\n",
       "      <td>$</td>\n",
       "      <td>Joe Collins</td>\n",
       "      <td>1971</td>\n",
       "    </tr>\n",
       "    <tr>\n",
       "      <th>2</th>\n",
       "      <td>2</td>\n",
       "      <td>Scott (I) Brady</td>\n",
       "      <td>$</td>\n",
       "      <td>Sarge</td>\n",
       "      <td>1971</td>\n",
       "    </tr>\n",
       "    <tr>\n",
       "      <th>3</th>\n",
       "      <td>2</td>\n",
       "      <td>Arthur Brauss</td>\n",
       "      <td>$</td>\n",
       "      <td>Candy Man</td>\n",
       "      <td>1971</td>\n",
       "    </tr>\n",
       "    <tr>\n",
       "      <th>4</th>\n",
       "      <td>2</td>\n",
       "      <td>Gert Fröbe</td>\n",
       "      <td>$</td>\n",
       "      <td>Mr. Kessel</td>\n",
       "      <td>1971</td>\n",
       "    </tr>\n",
       "  </tbody>\n",
       "</table>\n",
       "</div>"
      ],
      "text/plain": [
       "   MID                  Actor Movie              Role  Year\n",
       "0    2  Darrell (I) Armstrong     $  Associated Press  1971\n",
       "1    2          Warren Beatty     $       Joe Collins  1971\n",
       "2    2        Scott (I) Brady     $             Sarge  1971\n",
       "3    2          Arthur Brauss     $         Candy Man  1971\n",
       "4    2             Gert Fröbe     $        Mr. Kessel  1971"
      ]
     },
     "execution_count": 11,
     "metadata": {},
     "output_type": "execute_result"
    }
   ],
   "source": [
    "movie_df.head()"
   ]
  },
  {
   "cell_type": "markdown",
   "metadata": {},
   "source": [
    "1세 2세 (I) (II) 와 같은 regnal number 뒤로 위치 바꾸기"
   ]
  },
  {
   "cell_type": "code",
   "execution_count": 12,
   "metadata": {},
   "outputs": [
    {
     "data": {
      "text/html": [
       "<div>\n",
       "<style scoped>\n",
       "    .dataframe tbody tr th:only-of-type {\n",
       "        vertical-align: middle;\n",
       "    }\n",
       "\n",
       "    .dataframe tbody tr th {\n",
       "        vertical-align: top;\n",
       "    }\n",
       "\n",
       "    .dataframe thead th {\n",
       "        text-align: right;\n",
       "    }\n",
       "</style>\n",
       "<table border=\"1\" class=\"dataframe\">\n",
       "  <thead>\n",
       "    <tr style=\"text-align: right;\">\n",
       "      <th></th>\n",
       "      <th>MID</th>\n",
       "      <th>Actor</th>\n",
       "      <th>Movie</th>\n",
       "      <th>Role</th>\n",
       "      <th>Year</th>\n",
       "    </tr>\n",
       "  </thead>\n",
       "  <tbody>\n",
       "    <tr>\n",
       "      <th>0</th>\n",
       "      <td>2</td>\n",
       "      <td>Darrell Armstrong (I)</td>\n",
       "      <td>$</td>\n",
       "      <td>Associated Press</td>\n",
       "      <td>1971</td>\n",
       "    </tr>\n",
       "    <tr>\n",
       "      <th>1</th>\n",
       "      <td>2</td>\n",
       "      <td>Warren Beatty</td>\n",
       "      <td>$</td>\n",
       "      <td>Joe Collins</td>\n",
       "      <td>1971</td>\n",
       "    </tr>\n",
       "    <tr>\n",
       "      <th>2</th>\n",
       "      <td>2</td>\n",
       "      <td>Scott Brady (I)</td>\n",
       "      <td>$</td>\n",
       "      <td>Sarge</td>\n",
       "      <td>1971</td>\n",
       "    </tr>\n",
       "    <tr>\n",
       "      <th>3</th>\n",
       "      <td>2</td>\n",
       "      <td>Arthur Brauss</td>\n",
       "      <td>$</td>\n",
       "      <td>Candy Man</td>\n",
       "      <td>1971</td>\n",
       "    </tr>\n",
       "    <tr>\n",
       "      <th>4</th>\n",
       "      <td>2</td>\n",
       "      <td>Gert Fröbe</td>\n",
       "      <td>$</td>\n",
       "      <td>Mr. Kessel</td>\n",
       "      <td>1971</td>\n",
       "    </tr>\n",
       "  </tbody>\n",
       "</table>\n",
       "</div>"
      ],
      "text/plain": [
       "   MID                  Actor Movie              Role  Year\n",
       "0    2  Darrell Armstrong (I)     $  Associated Press  1971\n",
       "1    2          Warren Beatty     $       Joe Collins  1971\n",
       "2    2        Scott Brady (I)     $             Sarge  1971\n",
       "3    2          Arthur Brauss     $         Candy Man  1971\n",
       "4    2             Gert Fröbe     $        Mr. Kessel  1971"
      ]
     },
     "execution_count": 12,
     "metadata": {},
     "output_type": "execute_result"
    }
   ],
   "source": [
    "def change_regnal_number(x):\n",
    "    l = x.split(' ')\n",
    "    if l[1].startswith('('):\n",
    "        l[1], l[2] = l[2], l[1]\n",
    "    return ' '.join(l)\n",
    "\n",
    "\n",
    "movie_df['Actor'] = movie_df['Actor'].apply(change_regnal_number)\n",
    "movie_df.head()"
   ]
  },
  {
   "cell_type": "code",
   "execution_count": 14,
   "metadata": {},
   "outputs": [
    {
     "data": {
      "text/html": [
       "<div>\n",
       "<style scoped>\n",
       "    .dataframe tbody tr th:only-of-type {\n",
       "        vertical-align: middle;\n",
       "    }\n",
       "\n",
       "    .dataframe tbody tr th {\n",
       "        vertical-align: top;\n",
       "    }\n",
       "\n",
       "    .dataframe thead th {\n",
       "        text-align: right;\n",
       "    }\n",
       "</style>\n",
       "<table border=\"1\" class=\"dataframe\">\n",
       "  <thead>\n",
       "    <tr style=\"text-align: right;\">\n",
       "      <th></th>\n",
       "      <th>MID</th>\n",
       "      <th>Director</th>\n",
       "      <th>Movie</th>\n",
       "      <th>Year</th>\n",
       "    </tr>\n",
       "  </thead>\n",
       "  <tbody>\n",
       "    <tr>\n",
       "      <th>17181</th>\n",
       "      <td>4117</td>\n",
       "      <td>Roy Ward Baker</td>\n",
       "      <td>Aaghaaz</td>\n",
       "      <td>2000</td>\n",
       "    </tr>\n",
       "    <tr>\n",
       "      <th>16765</th>\n",
       "      <td>1529</td>\n",
       "      <td>Robert (I) Altman</td>\n",
       "      <td>2 Fast 2 Furious</td>\n",
       "      <td>2003</td>\n",
       "    </tr>\n",
       "    <tr>\n",
       "      <th>20345</th>\n",
       "      <td>3113</td>\n",
       "      <td>William Asher</td>\n",
       "      <td>8  Women</td>\n",
       "      <td>1999</td>\n",
       "    </tr>\n",
       "    <tr>\n",
       "      <th>20243</th>\n",
       "      <td>37249</td>\n",
       "      <td>Werner Jacobs</td>\n",
       "      <td>Big Operator, The</td>\n",
       "      <td>1959</td>\n",
       "    </tr>\n",
       "    <tr>\n",
       "      <th>7476</th>\n",
       "      <td>15231</td>\n",
       "      <td>Harley Cokeliss</td>\n",
       "      <td>Amy's Orgasm</td>\n",
       "      <td>2001</td>\n",
       "    </tr>\n",
       "    <tr>\n",
       "      <th>4160</th>\n",
       "      <td>82364</td>\n",
       "      <td>David Veloz</td>\n",
       "      <td>Delightfully Dangerous</td>\n",
       "      <td>1945</td>\n",
       "    </tr>\n",
       "    <tr>\n",
       "      <th>20713</th>\n",
       "      <td>42209</td>\n",
       "      <td>Yeung Kong</td>\n",
       "      <td>Bljackor</td>\n",
       "      <td>1964</td>\n",
       "    </tr>\n",
       "    <tr>\n",
       "      <th>19745</th>\n",
       "      <td>31058</td>\n",
       "      <td>Val Guest</td>\n",
       "      <td>Battle Circus</td>\n",
       "      <td>1953</td>\n",
       "    </tr>\n",
       "    <tr>\n",
       "      <th>1245</th>\n",
       "      <td>74827</td>\n",
       "      <td>Anna Solanas</td>\n",
       "      <td>Cuentos erticos</td>\n",
       "      <td>1980</td>\n",
       "    </tr>\n",
       "    <tr>\n",
       "      <th>14596</th>\n",
       "      <td>73772</td>\n",
       "      <td>Ola Simonsson</td>\n",
       "      <td>Cross of Lorraine, The</td>\n",
       "      <td>1943</td>\n",
       "    </tr>\n",
       "  </tbody>\n",
       "</table>\n",
       "</div>"
      ],
      "text/plain": [
       "         MID           Director                   Movie  Year\n",
       "17181   4117     Roy Ward Baker                 Aaghaaz  2000\n",
       "16765   1529  Robert (I) Altman        2 Fast 2 Furious  2003\n",
       "20345   3113      William Asher                8  Women  1999\n",
       "20243  37249      Werner Jacobs       Big Operator, The  1959\n",
       "7476   15231    Harley Cokeliss            Amy's Orgasm  2001\n",
       "4160   82364        David Veloz  Delightfully Dangerous  1945\n",
       "20713  42209         Yeung Kong                Bljackor  1964\n",
       "19745  31058          Val Guest           Battle Circus  1953\n",
       "1245   74827       Anna Solanas         Cuentos erticos  1980\n",
       "14596  73772      Ola Simonsson  Cross of Lorraine, The  1943"
      ]
     },
     "execution_count": 14,
     "metadata": {},
     "output_type": "execute_result"
    }
   ],
   "source": [
    "director_df.sample(10)"
   ]
  },
  {
   "cell_type": "code",
   "execution_count": 18,
   "metadata": {},
   "outputs": [
    {
     "data": {
      "text/html": [
       "<div>\n",
       "<style scoped>\n",
       "    .dataframe tbody tr th:only-of-type {\n",
       "        vertical-align: middle;\n",
       "    }\n",
       "\n",
       "    .dataframe tbody tr th {\n",
       "        vertical-align: top;\n",
       "    }\n",
       "\n",
       "    .dataframe thead th {\n",
       "        text-align: right;\n",
       "    }\n",
       "</style>\n",
       "<table border=\"1\" class=\"dataframe\">\n",
       "  <thead>\n",
       "    <tr style=\"text-align: right;\">\n",
       "      <th></th>\n",
       "      <th>MID</th>\n",
       "      <th>Director</th>\n",
       "      <th>Movie</th>\n",
       "      <th>Year</th>\n",
       "    </tr>\n",
       "  </thead>\n",
       "  <tbody>\n",
       "    <tr>\n",
       "      <th>11231</th>\n",
       "      <td>66942</td>\n",
       "      <td>Kevin Rixon</td>\n",
       "      <td>Cold Heaven</td>\n",
       "      <td>1991</td>\n",
       "    </tr>\n",
       "    <tr>\n",
       "      <th>6432</th>\n",
       "      <td>87188</td>\n",
       "      <td>Gene Yates</td>\n",
       "      <td>Direktan prenos</td>\n",
       "      <td>1982</td>\n",
       "    </tr>\n",
       "    <tr>\n",
       "      <th>14454</th>\n",
       "      <td>73258</td>\n",
       "      <td>Nina Shorina (II)</td>\n",
       "      <td>Crimebroker</td>\n",
       "      <td>1993</td>\n",
       "    </tr>\n",
       "    <tr>\n",
       "      <th>7286</th>\n",
       "      <td>26119</td>\n",
       "      <td>Guy Freeman (I)</td>\n",
       "      <td>Babes in Arms</td>\n",
       "      <td>1939</td>\n",
       "    </tr>\n",
       "    <tr>\n",
       "      <th>5056</th>\n",
       "      <td>20235</td>\n",
       "      <td>Edward Dillon</td>\n",
       "      <td>Arizona</td>\n",
       "      <td>1940</td>\n",
       "    </tr>\n",
       "    <tr>\n",
       "      <th>2722</th>\n",
       "      <td>34670</td>\n",
       "      <td>Carl K. Hittleman</td>\n",
       "      <td>Best Laid Plans</td>\n",
       "      <td>1999</td>\n",
       "    </tr>\n",
       "    <tr>\n",
       "      <th>19298</th>\n",
       "      <td>8478</td>\n",
       "      <td>Tom Booker</td>\n",
       "      <td>Agostino</td>\n",
       "      <td>1962</td>\n",
       "    </tr>\n",
       "    <tr>\n",
       "      <th>6281</th>\n",
       "      <td>77643</td>\n",
       "      <td>Gábor Szöllõskei</td>\n",
       "      <td>Dance of Life, The</td>\n",
       "      <td>1929</td>\n",
       "    </tr>\n",
       "    <tr>\n",
       "      <th>18614</th>\n",
       "      <td>83024</td>\n",
       "      <td>Suresh Vinu</td>\n",
       "      <td>Deprem</td>\n",
       "      <td>1976</td>\n",
       "    </tr>\n",
       "    <tr>\n",
       "      <th>9284</th>\n",
       "      <td>30736</td>\n",
       "      <td>Jerry Gross</td>\n",
       "      <td>Bastard!!</td>\n",
       "      <td>1992</td>\n",
       "    </tr>\n",
       "  </tbody>\n",
       "</table>\n",
       "</div>"
      ],
      "text/plain": [
       "         MID           Director               Movie  Year\n",
       "11231  66942        Kevin Rixon         Cold Heaven  1991\n",
       "6432   87188         Gene Yates     Direktan prenos  1982\n",
       "14454  73258  Nina Shorina (II)         Crimebroker  1993\n",
       "7286   26119    Guy Freeman (I)       Babes in Arms  1939\n",
       "5056   20235      Edward Dillon             Arizona  1940\n",
       "2722   34670  Carl K. Hittleman     Best Laid Plans  1999\n",
       "19298   8478         Tom Booker            Agostino  1962\n",
       "6281   77643   Gábor Szöllõskei  Dance of Life, The  1929\n",
       "18614  83024        Suresh Vinu              Deprem  1976\n",
       "9284   30736        Jerry Gross           Bastard!!  1992"
      ]
     },
     "execution_count": 18,
     "metadata": {},
     "output_type": "execute_result"
    }
   ],
   "source": [
    "director_df['Director'] = director_df['Director'].apply(change_regnal_number)\n",
    "director_df.sample(10)"
   ]
  },
  {
   "cell_type": "code",
   "execution_count": 26,
   "metadata": {},
   "outputs": [
    {
     "data": {
      "text/html": [
       "<div>\n",
       "<style scoped>\n",
       "    .dataframe tbody tr th:only-of-type {\n",
       "        vertical-align: middle;\n",
       "    }\n",
       "\n",
       "    .dataframe tbody tr th {\n",
       "        vertical-align: top;\n",
       "    }\n",
       "\n",
       "    .dataframe thead th {\n",
       "        text-align: right;\n",
       "    }\n",
       "</style>\n",
       "<table border=\"1\" class=\"dataframe\">\n",
       "  <thead>\n",
       "    <tr style=\"text-align: right;\">\n",
       "      <th></th>\n",
       "      <th>MID</th>\n",
       "      <th>Actor</th>\n",
       "      <th>Movie</th>\n",
       "      <th>Role</th>\n",
       "      <th>Year</th>\n",
       "    </tr>\n",
       "  </thead>\n",
       "  <tbody>\n",
       "    <tr>\n",
       "      <th>0</th>\n",
       "      <td>2</td>\n",
       "      <td>Darrell Armstrong (I)</td>\n",
       "      <td>$</td>\n",
       "      <td>Associated Press</td>\n",
       "      <td>1971</td>\n",
       "    </tr>\n",
       "    <tr>\n",
       "      <th>1</th>\n",
       "      <td>2</td>\n",
       "      <td>Warren Beatty</td>\n",
       "      <td>$</td>\n",
       "      <td>Joe Collins</td>\n",
       "      <td>1971</td>\n",
       "    </tr>\n",
       "    <tr>\n",
       "      <th>2</th>\n",
       "      <td>2</td>\n",
       "      <td>Scott Brady (I)</td>\n",
       "      <td>$</td>\n",
       "      <td>Sarge</td>\n",
       "      <td>1971</td>\n",
       "    </tr>\n",
       "    <tr>\n",
       "      <th>3</th>\n",
       "      <td>2</td>\n",
       "      <td>Arthur Brauss</td>\n",
       "      <td>$</td>\n",
       "      <td>Candy Man</td>\n",
       "      <td>1971</td>\n",
       "    </tr>\n",
       "    <tr>\n",
       "      <th>4</th>\n",
       "      <td>2</td>\n",
       "      <td>Gert Fröbe</td>\n",
       "      <td>$</td>\n",
       "      <td>Mr. Kessel</td>\n",
       "      <td>1971</td>\n",
       "    </tr>\n",
       "  </tbody>\n",
       "</table>\n",
       "</div>"
      ],
      "text/plain": [
       "   MID                  Actor Movie              Role  Year\n",
       "0    2  Darrell Armstrong (I)     $  Associated Press  1971\n",
       "1    2          Warren Beatty     $       Joe Collins  1971\n",
       "2    2        Scott Brady (I)     $             Sarge  1971\n",
       "3    2          Arthur Brauss     $         Candy Man  1971\n",
       "4    2             Gert Fröbe     $        Mr. Kessel  1971"
      ]
     },
     "execution_count": 26,
     "metadata": {},
     "output_type": "execute_result"
    }
   ],
   "source": [
    "movie_df.head()"
   ]
  },
  {
   "cell_type": "markdown",
   "metadata": {},
   "source": [
    "두 테이블을 조인해서 다시 저장"
   ]
  },
  {
   "cell_type": "code",
   "execution_count": 32,
   "metadata": {},
   "outputs": [
    {
     "data": {
      "text/html": [
       "<div>\n",
       "<style scoped>\n",
       "    .dataframe tbody tr th:only-of-type {\n",
       "        vertical-align: middle;\n",
       "    }\n",
       "\n",
       "    .dataframe tbody tr th {\n",
       "        vertical-align: top;\n",
       "    }\n",
       "\n",
       "    .dataframe thead th {\n",
       "        text-align: right;\n",
       "    }\n",
       "</style>\n",
       "<table border=\"1\" class=\"dataframe\">\n",
       "  <thead>\n",
       "    <tr style=\"text-align: right;\">\n",
       "      <th></th>\n",
       "      <th>Actor</th>\n",
       "      <th>Director</th>\n",
       "      <th>Movie</th>\n",
       "      <th>Role</th>\n",
       "      <th>Year</th>\n",
       "    </tr>\n",
       "  </thead>\n",
       "  <tbody>\n",
       "    <tr>\n",
       "      <th>0</th>\n",
       "      <td>Darrell Armstrong (I)</td>\n",
       "      <td>Les 12 Poissons</td>\n",
       "      <td>$</td>\n",
       "      <td>Associated Press</td>\n",
       "      <td>1971</td>\n",
       "    </tr>\n",
       "    <tr>\n",
       "      <th>1</th>\n",
       "      <td>Warren Beatty</td>\n",
       "      <td>Les 12 Poissons</td>\n",
       "      <td>$</td>\n",
       "      <td>Joe Collins</td>\n",
       "      <td>1971</td>\n",
       "    </tr>\n",
       "    <tr>\n",
       "      <th>2</th>\n",
       "      <td>Scott Brady (I)</td>\n",
       "      <td>Les 12 Poissons</td>\n",
       "      <td>$</td>\n",
       "      <td>Sarge</td>\n",
       "      <td>1971</td>\n",
       "    </tr>\n",
       "    <tr>\n",
       "      <th>3</th>\n",
       "      <td>Arthur Brauss</td>\n",
       "      <td>Les 12 Poissons</td>\n",
       "      <td>$</td>\n",
       "      <td>Candy Man</td>\n",
       "      <td>1971</td>\n",
       "    </tr>\n",
       "    <tr>\n",
       "      <th>4</th>\n",
       "      <td>Gert Fröbe</td>\n",
       "      <td>Les 12 Poissons</td>\n",
       "      <td>$</td>\n",
       "      <td>Mr. Kessel</td>\n",
       "      <td>1971</td>\n",
       "    </tr>\n",
       "    <tr>\n",
       "      <th>5</th>\n",
       "      <td>Bob Herron</td>\n",
       "      <td>Les 12 Poissons</td>\n",
       "      <td>$</td>\n",
       "      <td>Bodyguard</td>\n",
       "      <td>1971</td>\n",
       "    </tr>\n",
       "    <tr>\n",
       "      <th>6</th>\n",
       "      <td>Horst Hesslein</td>\n",
       "      <td>Les 12 Poissons</td>\n",
       "      <td>$</td>\n",
       "      <td>Bruno</td>\n",
       "      <td>1971</td>\n",
       "    </tr>\n",
       "    <tr>\n",
       "      <th>7</th>\n",
       "      <td>Hans Hutter (I)</td>\n",
       "      <td>Les 12 Poissons</td>\n",
       "      <td>$</td>\n",
       "      <td>Karl</td>\n",
       "      <td>1971</td>\n",
       "    </tr>\n",
       "    <tr>\n",
       "      <th>8</th>\n",
       "      <td>Wolfgang Kieling</td>\n",
       "      <td>Les 12 Poissons</td>\n",
       "      <td>$</td>\n",
       "      <td>Granich</td>\n",
       "      <td>1971</td>\n",
       "    </tr>\n",
       "    <tr>\n",
       "      <th>9</th>\n",
       "      <td>Wolfgang Kuhlman</td>\n",
       "      <td>Les 12 Poissons</td>\n",
       "      <td>$</td>\n",
       "      <td>Furcoat</td>\n",
       "      <td>1971</td>\n",
       "    </tr>\n",
       "  </tbody>\n",
       "</table>\n",
       "</div>"
      ],
      "text/plain": [
       "                   Actor         Director Movie              Role  Year\n",
       "0  Darrell Armstrong (I)  Les 12 Poissons     $  Associated Press  1971\n",
       "1          Warren Beatty  Les 12 Poissons     $       Joe Collins  1971\n",
       "2        Scott Brady (I)  Les 12 Poissons     $             Sarge  1971\n",
       "3          Arthur Brauss  Les 12 Poissons     $         Candy Man  1971\n",
       "4             Gert Fröbe  Les 12 Poissons     $        Mr. Kessel  1971\n",
       "5             Bob Herron  Les 12 Poissons     $         Bodyguard  1971\n",
       "6         Horst Hesslein  Les 12 Poissons     $             Bruno  1971\n",
       "7        Hans Hutter (I)  Les 12 Poissons     $              Karl  1971\n",
       "8       Wolfgang Kieling  Les 12 Poissons     $           Granich  1971\n",
       "9       Wolfgang Kuhlman  Les 12 Poissons     $           Furcoat  1971"
      ]
     },
     "execution_count": 32,
     "metadata": {},
     "output_type": "execute_result"
    }
   ],
   "source": [
    "joined_df = pd.merge(left=movie_df, right=director_df, how='inner', on=['MID', 'Movie', 'Year'])\n",
    "joined_df = joined_df.drop('MID', axis=1)\n",
    "joined_df = joined_df[['Actor', 'Director', 'Movie', 'Role', 'Year']]\n",
    "joined_df.head(10)"
   ]
  },
  {
   "cell_type": "code",
   "execution_count": 33,
   "metadata": {},
   "outputs": [],
   "source": [
    "movie_df.to_csv('./data/movie_related_information.csv')\n",
    "director_df.to_csv('./data/director_related_information.csv')\n",
    "joined_df.to_csv('./data/joined_table.csv')"
   ]
  },
  {
   "cell_type": "code",
   "execution_count": 3,
   "metadata": {},
   "outputs": [],
   "source": [
    "movie_df = pd.read_csv('./data/movie_related_information.csv', index_col=[0])\n",
    "director_df = pd.read_csv('./data/director_related_information.csv', index_col=[0])\n",
    "joined_df = pd.read_csv('./data/joined_table.csv', index_col=[0])"
   ]
  },
  {
   "cell_type": "markdown",
   "metadata": {},
   "source": [
    "단어 토큰 준비"
   ]
  },
  {
   "cell_type": "code",
   "execution_count": 4,
   "metadata": {},
   "outputs": [
    {
     "data": {
      "text/plain": [
       "(202880, 202880, 202880)"
      ]
     },
     "execution_count": 4,
     "metadata": {},
     "output_type": "execute_result"
    }
   ],
   "source": [
    "word_dict = {'[PAD]': 0, '[CLS]': 1, '[SEP]': 2, '[MASK]': 3}\n",
    "\n",
    "for col in joined_df.columns:\n",
    "    word_list = joined_df[col].tolist()\n",
    "    word_list = list(map(str, word_list))\n",
    "    word_list = list(set(word_list))\n",
    "    len_word_dict = len(word_dict)\n",
    "    for i, w in enumerate(word_list):\n",
    "        word_dict[w] = i + len_word_dict\n",
    "\n",
    "number_dict = {i: w for i, w in enumerate(word_dict)}\n",
    "vocab_size = len(number_dict)\n",
    "\n",
    "len(word_dict), len(number_dict), vocab_size"
   ]
  },
  {
   "cell_type": "code",
   "execution_count": 5,
   "metadata": {},
   "outputs": [
    {
     "data": {
      "text/plain": [
       "(['Dawn Lorraine',\n",
       "  'Col. Mitchell McDonald',\n",
       "  'Anna Blank',\n",
       "  'Atte Hovimaa',\n",
       "  'Robert Nash',\n",
       "  'Platoon Sgt. William Maccone',\n",
       "  'Minnie Summers Lindsey',\n",
       "  'Nora Doel',\n",
       "  'Iwataro Ishii',\n",
       "  'Helmut Bein'],\n",
       " [52736, 2897, 59458, 54682, 167236, 41110, 196816, 73479, 125805, 61968])"
      ]
     },
     "execution_count": 5,
     "metadata": {},
     "output_type": "execute_result"
    }
   ],
   "source": [
    "import random\n",
    "\n",
    "random.sample(list(word_dict), 10), random.sample(list(number_dict), 10)"
   ]
  },
  {
   "cell_type": "markdown",
   "metadata": {},
   "source": [
    "joined dataframe을 복사하여 토큰 테이블로 바꾸기"
   ]
  },
  {
   "cell_type": "code",
   "execution_count": 6,
   "metadata": {},
   "outputs": [],
   "source": [
    "token_df = joined_df.copy()"
   ]
  },
  {
   "cell_type": "code",
   "execution_count": 7,
   "metadata": {},
   "outputs": [
    {
     "data": {
      "text/html": [
       "<div>\n",
       "<style scoped>\n",
       "    .dataframe tbody tr th:only-of-type {\n",
       "        vertical-align: middle;\n",
       "    }\n",
       "\n",
       "    .dataframe tbody tr th {\n",
       "        vertical-align: top;\n",
       "    }\n",
       "\n",
       "    .dataframe thead th {\n",
       "        text-align: right;\n",
       "    }\n",
       "</style>\n",
       "<table border=\"1\" class=\"dataframe\">\n",
       "  <thead>\n",
       "    <tr style=\"text-align: right;\">\n",
       "      <th></th>\n",
       "      <th>Actor</th>\n",
       "      <th>Director</th>\n",
       "      <th>Movie</th>\n",
       "      <th>Role</th>\n",
       "      <th>Year</th>\n",
       "    </tr>\n",
       "  </thead>\n",
       "  <tbody>\n",
       "    <tr>\n",
       "      <th>0</th>\n",
       "      <td>Darrell Armstrong (I)</td>\n",
       "      <td>Les 12 Poissons</td>\n",
       "      <td>$</td>\n",
       "      <td>Associated Press</td>\n",
       "      <td>1971</td>\n",
       "    </tr>\n",
       "    <tr>\n",
       "      <th>1</th>\n",
       "      <td>Warren Beatty</td>\n",
       "      <td>Les 12 Poissons</td>\n",
       "      <td>$</td>\n",
       "      <td>Joe Collins</td>\n",
       "      <td>1971</td>\n",
       "    </tr>\n",
       "    <tr>\n",
       "      <th>2</th>\n",
       "      <td>Scott Brady (I)</td>\n",
       "      <td>Les 12 Poissons</td>\n",
       "      <td>$</td>\n",
       "      <td>Sarge</td>\n",
       "      <td>1971</td>\n",
       "    </tr>\n",
       "    <tr>\n",
       "      <th>3</th>\n",
       "      <td>Arthur Brauss</td>\n",
       "      <td>Les 12 Poissons</td>\n",
       "      <td>$</td>\n",
       "      <td>Candy Man</td>\n",
       "      <td>1971</td>\n",
       "    </tr>\n",
       "    <tr>\n",
       "      <th>4</th>\n",
       "      <td>Gert Fröbe</td>\n",
       "      <td>Les 12 Poissons</td>\n",
       "      <td>$</td>\n",
       "      <td>Mr. Kessel</td>\n",
       "      <td>1971</td>\n",
       "    </tr>\n",
       "  </tbody>\n",
       "</table>\n",
       "</div>"
      ],
      "text/plain": [
       "                   Actor         Director Movie              Role  Year\n",
       "0  Darrell Armstrong (I)  Les 12 Poissons     $  Associated Press  1971\n",
       "1          Warren Beatty  Les 12 Poissons     $       Joe Collins  1971\n",
       "2        Scott Brady (I)  Les 12 Poissons     $             Sarge  1971\n",
       "3          Arthur Brauss  Les 12 Poissons     $         Candy Man  1971\n",
       "4             Gert Fröbe  Les 12 Poissons     $        Mr. Kessel  1971"
      ]
     },
     "execution_count": 7,
     "metadata": {},
     "output_type": "execute_result"
    }
   ],
   "source": [
    "token_df.head()"
   ]
  },
  {
   "cell_type": "code",
   "execution_count": 8,
   "metadata": {},
   "outputs": [],
   "source": [
    "for col in token_df.columns:\n",
    "    token_df[col] = token_df[col].apply(lambda x: str(x))"
   ]
  },
  {
   "cell_type": "code",
   "execution_count": 9,
   "metadata": {},
   "outputs": [
    {
     "data": {
      "text/html": [
       "<div>\n",
       "<style scoped>\n",
       "    .dataframe tbody tr th:only-of-type {\n",
       "        vertical-align: middle;\n",
       "    }\n",
       "\n",
       "    .dataframe tbody tr th {\n",
       "        vertical-align: top;\n",
       "    }\n",
       "\n",
       "    .dataframe thead th {\n",
       "        text-align: right;\n",
       "    }\n",
       "</style>\n",
       "<table border=\"1\" class=\"dataframe\">\n",
       "  <thead>\n",
       "    <tr style=\"text-align: right;\">\n",
       "      <th></th>\n",
       "      <th>Actor</th>\n",
       "      <th>Director</th>\n",
       "      <th>Movie</th>\n",
       "      <th>Role</th>\n",
       "      <th>Year</th>\n",
       "    </tr>\n",
       "  </thead>\n",
       "  <tbody>\n",
       "    <tr>\n",
       "      <th>0</th>\n",
       "      <td>Darrell Armstrong (I)</td>\n",
       "      <td>Les 12 Poissons</td>\n",
       "      <td>$</td>\n",
       "      <td>Associated Press</td>\n",
       "      <td>1971</td>\n",
       "    </tr>\n",
       "    <tr>\n",
       "      <th>1</th>\n",
       "      <td>Warren Beatty</td>\n",
       "      <td>Les 12 Poissons</td>\n",
       "      <td>$</td>\n",
       "      <td>Joe Collins</td>\n",
       "      <td>1971</td>\n",
       "    </tr>\n",
       "    <tr>\n",
       "      <th>2</th>\n",
       "      <td>Scott Brady (I)</td>\n",
       "      <td>Les 12 Poissons</td>\n",
       "      <td>$</td>\n",
       "      <td>Sarge</td>\n",
       "      <td>1971</td>\n",
       "    </tr>\n",
       "    <tr>\n",
       "      <th>3</th>\n",
       "      <td>Arthur Brauss</td>\n",
       "      <td>Les 12 Poissons</td>\n",
       "      <td>$</td>\n",
       "      <td>Candy Man</td>\n",
       "      <td>1971</td>\n",
       "    </tr>\n",
       "    <tr>\n",
       "      <th>4</th>\n",
       "      <td>Gert Fröbe</td>\n",
       "      <td>Les 12 Poissons</td>\n",
       "      <td>$</td>\n",
       "      <td>Mr. Kessel</td>\n",
       "      <td>1971</td>\n",
       "    </tr>\n",
       "  </tbody>\n",
       "</table>\n",
       "</div>"
      ],
      "text/plain": [
       "                   Actor         Director Movie              Role  Year\n",
       "0  Darrell Armstrong (I)  Les 12 Poissons     $  Associated Press  1971\n",
       "1          Warren Beatty  Les 12 Poissons     $       Joe Collins  1971\n",
       "2        Scott Brady (I)  Les 12 Poissons     $             Sarge  1971\n",
       "3          Arthur Brauss  Les 12 Poissons     $         Candy Man  1971\n",
       "4             Gert Fröbe  Les 12 Poissons     $        Mr. Kessel  1971"
      ]
     },
     "execution_count": 9,
     "metadata": {},
     "output_type": "execute_result"
    }
   ],
   "source": [
    "token_df.head()"
   ]
  },
  {
   "cell_type": "code",
   "execution_count": 10,
   "metadata": {},
   "outputs": [
    {
     "data": {
      "text/plain": [
       "str"
      ]
     },
     "execution_count": 10,
     "metadata": {},
     "output_type": "execute_result"
    }
   ],
   "source": [
    "type(token_df['Year'][0])"
   ]
  },
  {
   "cell_type": "code",
   "execution_count": 11,
   "metadata": {},
   "outputs": [
    {
     "data": {
      "text/html": [
       "<div>\n",
       "<style scoped>\n",
       "    .dataframe tbody tr th:only-of-type {\n",
       "        vertical-align: middle;\n",
       "    }\n",
       "\n",
       "    .dataframe tbody tr th {\n",
       "        vertical-align: top;\n",
       "    }\n",
       "\n",
       "    .dataframe thead th {\n",
       "        text-align: right;\n",
       "    }\n",
       "</style>\n",
       "<table border=\"1\" class=\"dataframe\">\n",
       "  <thead>\n",
       "    <tr style=\"text-align: right;\">\n",
       "      <th></th>\n",
       "      <th>Actor</th>\n",
       "      <th>Director</th>\n",
       "      <th>Movie</th>\n",
       "      <th>Role</th>\n",
       "      <th>Year</th>\n",
       "    </tr>\n",
       "  </thead>\n",
       "  <tbody>\n",
       "    <tr>\n",
       "      <th>0</th>\n",
       "      <td>85977</td>\n",
       "      <td>103573</td>\n",
       "      <td>108593</td>\n",
       "      <td>136876</td>\n",
       "      <td>202847</td>\n",
       "    </tr>\n",
       "    <tr>\n",
       "      <th>1</th>\n",
       "      <td>87969</td>\n",
       "      <td>103573</td>\n",
       "      <td>108593</td>\n",
       "      <td>188469</td>\n",
       "      <td>202847</td>\n",
       "    </tr>\n",
       "    <tr>\n",
       "      <th>2</th>\n",
       "      <td>81064</td>\n",
       "      <td>103573</td>\n",
       "      <td>108593</td>\n",
       "      <td>182880</td>\n",
       "      <td>202847</td>\n",
       "    </tr>\n",
       "    <tr>\n",
       "      <th>3</th>\n",
       "      <td>6986</td>\n",
       "      <td>103573</td>\n",
       "      <td>108593</td>\n",
       "      <td>187791</td>\n",
       "      <td>202847</td>\n",
       "    </tr>\n",
       "    <tr>\n",
       "      <th>4</th>\n",
       "      <td>23105</td>\n",
       "      <td>103573</td>\n",
       "      <td>108593</td>\n",
       "      <td>136541</td>\n",
       "      <td>202847</td>\n",
       "    </tr>\n",
       "  </tbody>\n",
       "</table>\n",
       "</div>"
      ],
      "text/plain": [
       "   Actor  Director   Movie    Role    Year\n",
       "0  85977    103573  108593  136876  202847\n",
       "1  87969    103573  108593  188469  202847\n",
       "2  81064    103573  108593  182880  202847\n",
       "3   6986    103573  108593  187791  202847\n",
       "4  23105    103573  108593  136541  202847"
      ]
     },
     "execution_count": 11,
     "metadata": {},
     "output_type": "execute_result"
    }
   ],
   "source": [
    "def change_to_token(entity):\n",
    "    return word_dict[entity]\n",
    "\n",
    "for col in token_df.columns:\n",
    "    token_df[col] = token_df[col].apply(change_to_token)\n",
    "\n",
    "token_df.head()"
   ]
  },
  {
   "cell_type": "code",
   "execution_count": 14,
   "metadata": {},
   "outputs": [
    {
     "name": "stdout",
     "output_type": "stream",
     "text": [
      "Darrell Armstrong (I), Richard Kwietniowski, $, The single man, 1977, "
     ]
    }
   ],
   "source": [
    "for entity in token_df.iloc[0, :].values:\n",
    "    print(number_dict[entity], end=', ')"
   ]
  },
  {
   "cell_type": "markdown",
   "metadata": {},
   "source": [
    "토큰 테이블 저장"
   ]
  },
  {
   "cell_type": "code",
   "execution_count": 15,
   "metadata": {},
   "outputs": [],
   "source": [
    "token_df.to_csv('./data/token_table.csv')"
   ]
  },
  {
   "cell_type": "code",
   "execution_count": null,
   "metadata": {},
   "outputs": [],
   "source": []
  }
 ],
 "metadata": {
  "kernelspec": {
   "display_name": "Python 3.8.12 ('mytorch')",
   "language": "python",
   "name": "python3"
  },
  "language_info": {
   "codemirror_mode": {
    "name": "ipython",
    "version": 3
   },
   "file_extension": ".py",
   "mimetype": "text/x-python",
   "name": "python",
   "nbconvert_exporter": "python",
   "pygments_lexer": "ipython3",
   "version": "3.8.12"
  },
  "orig_nbformat": 4,
  "vscode": {
   "interpreter": {
    "hash": "b4a27c98caeaa5630be10b8d406a4608184d11e4add7ee29d27ce8c7f4d0bc9a"
   }
  }
 },
 "nbformat": 4,
 "nbformat_minor": 2
}
