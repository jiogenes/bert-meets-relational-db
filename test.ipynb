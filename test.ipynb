{
 "cells": [
  {
   "cell_type": "code",
   "execution_count": 1,
   "metadata": {},
   "outputs": [],
   "source": [
    "import pymysql as db\n",
    "import pandas as pd\n",
    "import warnings\n",
    "warnings.filterwarnings('ignore')"
   ]
  },
  {
   "cell_type": "markdown",
   "metadata": {},
   "source": [
    "DB 연결 및 SQL문 확인"
   ]
  },
  {
   "cell_type": "code",
   "execution_count": 2,
   "metadata": {},
   "outputs": [
    {
     "name": "stdout",
     "output_type": "stream",
     "text": [
      "((20000, 'Eric', 'Aude', 'M'),)\n"
     ]
    }
   ],
   "source": [
    "# user = 'jyji'\n",
    "# password = '123123'\n",
    "# host = 'localhost'\n",
    "# dbname = 'IMDB'\n",
    "# charset = 'utf8'\n",
    "con = db.connect(host='localhost', user='jyji', password='123123', db='IMDB', charset='utf8')\n",
    "cur = con.cursor()\n",
    "sql = 'select * from actors where id=20000;'\n",
    "cur.execute(sql)\n",
    "rows = cur.fetchall()\n",
    "print(rows)\n",
    "con.close()"
   ]
  },
  {
   "cell_type": "code",
   "execution_count": 3,
   "metadata": {},
   "outputs": [],
   "source": [
    "def get_connection():\n",
    "    con = db.connect(host='localhost', user='jyji', password='123123', db='IMDB', charset='utf8')\n",
    "    return con"
   ]
  },
  {
   "cell_type": "code",
   "execution_count": 4,
   "metadata": {},
   "outputs": [
    {
     "name": "stdout",
     "output_type": "stream",
     "text": [
      "   MID                  Actor Movie              Role  Year\n",
      "0    2  Darrell (I) Armstrong     $  Associated Press  1971\n",
      "1    2          Warren Beatty     $       Joe Collins  1971\n",
      "2    2        Scott (I) Brady     $             Sarge  1971\n",
      "3    2          Arthur Brauss     $         Candy Man  1971\n",
      "4    2             Gert Fröbe     $        Mr. Kessel  1971\n"
     ]
    }
   ],
   "source": [
    "with get_connection() as con:\n",
    "    SQL = open('./SQL/movie_related_information.sql').read()\n",
    "    df = pd.read_sql(SQL, con)\n",
    "    print(df.head())\n",
    "    df.to_csv('./data/movie_related_information.csv')"
   ]
  },
  {
   "cell_type": "code",
   "execution_count": 5,
   "metadata": {},
   "outputs": [
    {
     "name": "stdout",
     "output_type": "stream",
     "text": [
      "     MID        Director                           Movie  Year\n",
      "0   1114  A. Aleksandrov                     14/1 endlos  1998\n",
      "1  17209        A. Cyran                   Animali pazzi  1939\n",
      "2  36457    A. Ignatenko  Bianco, il giallo, il nero, Il  1975\n",
      "3  36457    A. Ignatenko  Bianco, il giallo, il nero, Il  1975\n",
      "4  36457    A. Ignatenko  Bianco, il giallo, il nero, Il  1975\n"
     ]
    }
   ],
   "source": [
    "with get_connection() as con:\n",
    "    SQL = open('./SQL/director_related_information.sql').read()\n",
    "    df = pd.read_sql(SQL, con)\n",
    "    print(df.head())\n",
    "    df.to_csv('./data/director_related_information.csv')"
   ]
  },
  {
   "cell_type": "markdown",
   "metadata": {},
   "source": [
    "Pandas Dataframe으로 변환"
   ]
  },
  {
   "cell_type": "code",
   "execution_count": 6,
   "metadata": {},
   "outputs": [],
   "source": [
    "movie_df = pd.read_csv('./data/movie_related_information.csv', index_col=[0])\n",
    "director_df = pd.read_csv('./data/director_related_information.csv', index_col=[0])"
   ]
  },
  {
   "cell_type": "code",
   "execution_count": 7,
   "metadata": {},
   "outputs": [
    {
     "data": {
      "text/html": [
       "<div>\n",
       "<style scoped>\n",
       "    .dataframe tbody tr th:only-of-type {\n",
       "        vertical-align: middle;\n",
       "    }\n",
       "\n",
       "    .dataframe tbody tr th {\n",
       "        vertical-align: top;\n",
       "    }\n",
       "\n",
       "    .dataframe thead th {\n",
       "        text-align: right;\n",
       "    }\n",
       "</style>\n",
       "<table border=\"1\" class=\"dataframe\">\n",
       "  <thead>\n",
       "    <tr style=\"text-align: right;\">\n",
       "      <th></th>\n",
       "      <th>MID</th>\n",
       "      <th>Actor</th>\n",
       "      <th>Movie</th>\n",
       "      <th>Role</th>\n",
       "      <th>Year</th>\n",
       "    </tr>\n",
       "  </thead>\n",
       "  <tbody>\n",
       "    <tr>\n",
       "      <th>0</th>\n",
       "      <td>2</td>\n",
       "      <td>Darrell (I) Armstrong</td>\n",
       "      <td>$</td>\n",
       "      <td>Associated Press</td>\n",
       "      <td>1971</td>\n",
       "    </tr>\n",
       "    <tr>\n",
       "      <th>1</th>\n",
       "      <td>2</td>\n",
       "      <td>Warren Beatty</td>\n",
       "      <td>$</td>\n",
       "      <td>Joe Collins</td>\n",
       "      <td>1971</td>\n",
       "    </tr>\n",
       "    <tr>\n",
       "      <th>2</th>\n",
       "      <td>2</td>\n",
       "      <td>Scott (I) Brady</td>\n",
       "      <td>$</td>\n",
       "      <td>Sarge</td>\n",
       "      <td>1971</td>\n",
       "    </tr>\n",
       "    <tr>\n",
       "      <th>3</th>\n",
       "      <td>2</td>\n",
       "      <td>Arthur Brauss</td>\n",
       "      <td>$</td>\n",
       "      <td>Candy Man</td>\n",
       "      <td>1971</td>\n",
       "    </tr>\n",
       "    <tr>\n",
       "      <th>4</th>\n",
       "      <td>2</td>\n",
       "      <td>Gert Fröbe</td>\n",
       "      <td>$</td>\n",
       "      <td>Mr. Kessel</td>\n",
       "      <td>1971</td>\n",
       "    </tr>\n",
       "  </tbody>\n",
       "</table>\n",
       "</div>"
      ],
      "text/plain": [
       "   MID                  Actor Movie              Role  Year\n",
       "0    2  Darrell (I) Armstrong     $  Associated Press  1971\n",
       "1    2          Warren Beatty     $       Joe Collins  1971\n",
       "2    2        Scott (I) Brady     $             Sarge  1971\n",
       "3    2          Arthur Brauss     $         Candy Man  1971\n",
       "4    2             Gert Fröbe     $        Mr. Kessel  1971"
      ]
     },
     "execution_count": 7,
     "metadata": {},
     "output_type": "execute_result"
    }
   ],
   "source": [
    "movie_df.head()"
   ]
  },
  {
   "cell_type": "markdown",
   "metadata": {},
   "source": [
    "1세 2세 (I) (II) 와 같은 regnal number 뒤로 위치 바꾸기"
   ]
  },
  {
   "cell_type": "code",
   "execution_count": 8,
   "metadata": {},
   "outputs": [
    {
     "data": {
      "text/html": [
       "<div>\n",
       "<style scoped>\n",
       "    .dataframe tbody tr th:only-of-type {\n",
       "        vertical-align: middle;\n",
       "    }\n",
       "\n",
       "    .dataframe tbody tr th {\n",
       "        vertical-align: top;\n",
       "    }\n",
       "\n",
       "    .dataframe thead th {\n",
       "        text-align: right;\n",
       "    }\n",
       "</style>\n",
       "<table border=\"1\" class=\"dataframe\">\n",
       "  <thead>\n",
       "    <tr style=\"text-align: right;\">\n",
       "      <th></th>\n",
       "      <th>MID</th>\n",
       "      <th>Actor</th>\n",
       "      <th>Movie</th>\n",
       "      <th>Role</th>\n",
       "      <th>Year</th>\n",
       "    </tr>\n",
       "  </thead>\n",
       "  <tbody>\n",
       "    <tr>\n",
       "      <th>0</th>\n",
       "      <td>2</td>\n",
       "      <td>Darrell Armstrong (I)</td>\n",
       "      <td>$</td>\n",
       "      <td>Associated Press</td>\n",
       "      <td>1971</td>\n",
       "    </tr>\n",
       "    <tr>\n",
       "      <th>1</th>\n",
       "      <td>2</td>\n",
       "      <td>Warren Beatty</td>\n",
       "      <td>$</td>\n",
       "      <td>Joe Collins</td>\n",
       "      <td>1971</td>\n",
       "    </tr>\n",
       "    <tr>\n",
       "      <th>2</th>\n",
       "      <td>2</td>\n",
       "      <td>Scott Brady (I)</td>\n",
       "      <td>$</td>\n",
       "      <td>Sarge</td>\n",
       "      <td>1971</td>\n",
       "    </tr>\n",
       "    <tr>\n",
       "      <th>3</th>\n",
       "      <td>2</td>\n",
       "      <td>Arthur Brauss</td>\n",
       "      <td>$</td>\n",
       "      <td>Candy Man</td>\n",
       "      <td>1971</td>\n",
       "    </tr>\n",
       "    <tr>\n",
       "      <th>4</th>\n",
       "      <td>2</td>\n",
       "      <td>Gert Fröbe</td>\n",
       "      <td>$</td>\n",
       "      <td>Mr. Kessel</td>\n",
       "      <td>1971</td>\n",
       "    </tr>\n",
       "  </tbody>\n",
       "</table>\n",
       "</div>"
      ],
      "text/plain": [
       "   MID                  Actor Movie              Role  Year\n",
       "0    2  Darrell Armstrong (I)     $  Associated Press  1971\n",
       "1    2          Warren Beatty     $       Joe Collins  1971\n",
       "2    2        Scott Brady (I)     $             Sarge  1971\n",
       "3    2          Arthur Brauss     $         Candy Man  1971\n",
       "4    2             Gert Fröbe     $        Mr. Kessel  1971"
      ]
     },
     "execution_count": 8,
     "metadata": {},
     "output_type": "execute_result"
    }
   ],
   "source": [
    "def change_regnal_number(x):\n",
    "    l = x.split(' ')\n",
    "    if l[1].startswith('('):\n",
    "        l[1], l[2] = l[2], l[1]\n",
    "    return ' '.join(l)\n",
    "\n",
    "\n",
    "movie_df['Actor'] = movie_df['Actor'].apply(change_regnal_number)\n",
    "movie_df.head()"
   ]
  },
  {
   "cell_type": "code",
   "execution_count": 9,
   "metadata": {},
   "outputs": [
    {
     "data": {
      "text/html": [
       "<div>\n",
       "<style scoped>\n",
       "    .dataframe tbody tr th:only-of-type {\n",
       "        vertical-align: middle;\n",
       "    }\n",
       "\n",
       "    .dataframe tbody tr th {\n",
       "        vertical-align: top;\n",
       "    }\n",
       "\n",
       "    .dataframe thead th {\n",
       "        text-align: right;\n",
       "    }\n",
       "</style>\n",
       "<table border=\"1\" class=\"dataframe\">\n",
       "  <thead>\n",
       "    <tr style=\"text-align: right;\">\n",
       "      <th></th>\n",
       "      <th>MID</th>\n",
       "      <th>Director</th>\n",
       "      <th>Movie</th>\n",
       "      <th>Year</th>\n",
       "    </tr>\n",
       "  </thead>\n",
       "  <tbody>\n",
       "    <tr>\n",
       "      <th>20222</th>\n",
       "      <td>14141</td>\n",
       "      <td>Wellson Chin</td>\n",
       "      <td>American President, The</td>\n",
       "      <td>1995</td>\n",
       "    </tr>\n",
       "    <tr>\n",
       "      <th>15069</th>\n",
       "      <td>63635</td>\n",
       "      <td>Paul (I) Powell</td>\n",
       "      <td>Ch Forte com Limo</td>\n",
       "      <td>1993</td>\n",
       "    </tr>\n",
       "    <tr>\n",
       "      <th>12076</th>\n",
       "      <td>28414</td>\n",
       "      <td>Lorenzo Gicca Palli</td>\n",
       "      <td>Balkanski spijun</td>\n",
       "      <td>1981</td>\n",
       "    </tr>\n",
       "    <tr>\n",
       "      <th>2659</th>\n",
       "      <td>72473</td>\n",
       "      <td>Byron Shah</td>\n",
       "      <td>Cracking Up</td>\n",
       "      <td>1983</td>\n",
       "    </tr>\n",
       "    <tr>\n",
       "      <th>8752</th>\n",
       "      <td>77076</td>\n",
       "      <td>Jamil Sulong</td>\n",
       "      <td>Dalalf</td>\n",
       "      <td>1984</td>\n",
       "    </tr>\n",
       "    <tr>\n",
       "      <th>17309</th>\n",
       "      <td>59862</td>\n",
       "      <td>Ryunosuke Otonashi</td>\n",
       "      <td>Chasing Cain</td>\n",
       "      <td>2001</td>\n",
       "    </tr>\n",
       "    <tr>\n",
       "      <th>19534</th>\n",
       "      <td>80594</td>\n",
       "      <td>Toshiro Tsuchida</td>\n",
       "      <td>Dead Room</td>\n",
       "      <td>2001</td>\n",
       "    </tr>\n",
       "    <tr>\n",
       "      <th>5518</th>\n",
       "      <td>83396</td>\n",
       "      <td>Ernst R. von Theumer</td>\n",
       "      <td>Des terroristes  la retraite</td>\n",
       "      <td>1985</td>\n",
       "    </tr>\n",
       "    <tr>\n",
       "      <th>7333</th>\n",
       "      <td>77612</td>\n",
       "      <td>György Szomjas</td>\n",
       "      <td>Dance Hall</td>\n",
       "      <td>1941</td>\n",
       "    </tr>\n",
       "    <tr>\n",
       "      <th>20767</th>\n",
       "      <td>13875</td>\n",
       "      <td>Yin-jung Chen</td>\n",
       "      <td>American Dreamer</td>\n",
       "      <td>1984</td>\n",
       "    </tr>\n",
       "  </tbody>\n",
       "</table>\n",
       "</div>"
      ],
      "text/plain": [
       "         MID              Director                         Movie  Year\n",
       "20222  14141          Wellson Chin       American President, The  1995\n",
       "15069  63635       Paul (I) Powell             Ch Forte com Limo  1993\n",
       "12076  28414   Lorenzo Gicca Palli              Balkanski spijun  1981\n",
       "2659   72473            Byron Shah                   Cracking Up  1983\n",
       "8752   77076          Jamil Sulong                        Dalalf  1984\n",
       "17309  59862    Ryunosuke Otonashi                  Chasing Cain  2001\n",
       "19534  80594      Toshiro Tsuchida                     Dead Room  2001\n",
       "5518   83396  Ernst R. von Theumer  Des terroristes  la retraite  1985\n",
       "7333   77612        György Szomjas                    Dance Hall  1941\n",
       "20767  13875         Yin-jung Chen              American Dreamer  1984"
      ]
     },
     "execution_count": 9,
     "metadata": {},
     "output_type": "execute_result"
    }
   ],
   "source": [
    "director_df.sample(10)"
   ]
  },
  {
   "cell_type": "code",
   "execution_count": 10,
   "metadata": {},
   "outputs": [
    {
     "data": {
      "text/html": [
       "<div>\n",
       "<style scoped>\n",
       "    .dataframe tbody tr th:only-of-type {\n",
       "        vertical-align: middle;\n",
       "    }\n",
       "\n",
       "    .dataframe tbody tr th {\n",
       "        vertical-align: top;\n",
       "    }\n",
       "\n",
       "    .dataframe thead th {\n",
       "        text-align: right;\n",
       "    }\n",
       "</style>\n",
       "<table border=\"1\" class=\"dataframe\">\n",
       "  <thead>\n",
       "    <tr style=\"text-align: right;\">\n",
       "      <th></th>\n",
       "      <th>MID</th>\n",
       "      <th>Director</th>\n",
       "      <th>Movie</th>\n",
       "      <th>Year</th>\n",
       "    </tr>\n",
       "  </thead>\n",
       "  <tbody>\n",
       "    <tr>\n",
       "      <th>9626</th>\n",
       "      <td>86819</td>\n",
       "      <td>Joel D. Wynkoop</td>\n",
       "      <td>Dimenticare Palermo</td>\n",
       "      <td>1990</td>\n",
       "    </tr>\n",
       "    <tr>\n",
       "      <th>17965</th>\n",
       "      <td>39864</td>\n",
       "      <td>Shuji Kataoka</td>\n",
       "      <td>Black Scorpion, The</td>\n",
       "      <td>1957</td>\n",
       "    </tr>\n",
       "    <tr>\n",
       "      <th>19131</th>\n",
       "      <td>9976</td>\n",
       "      <td>Thor L. Brooks</td>\n",
       "      <td>Alaska Seas</td>\n",
       "      <td>1954</td>\n",
       "    </tr>\n",
       "    <tr>\n",
       "      <th>3424</th>\n",
       "      <td>79510</td>\n",
       "      <td>Chung Ting (II)</td>\n",
       "      <td>David (1979/I)</td>\n",
       "      <td>1979</td>\n",
       "    </tr>\n",
       "    <tr>\n",
       "      <th>19770</th>\n",
       "      <td>79634</td>\n",
       "      <td>Valeri Todorovsky</td>\n",
       "      <td>Davy Crockett, Indian Scout</td>\n",
       "      <td>1950</td>\n",
       "    </tr>\n",
       "    <tr>\n",
       "      <th>11029</th>\n",
       "      <td>51442</td>\n",
       "      <td>Katsuya Matsumura</td>\n",
       "      <td>C't' ton tour, Laura Cadieux</td>\n",
       "      <td>1998</td>\n",
       "    </tr>\n",
       "    <tr>\n",
       "      <th>13283</th>\n",
       "      <td>88766</td>\n",
       "      <td>Mehmet Özcelik</td>\n",
       "      <td>Doc Hollywood</td>\n",
       "      <td>1991</td>\n",
       "    </tr>\n",
       "    <tr>\n",
       "      <th>7630</th>\n",
       "      <td>81099</td>\n",
       "      <td>Hector Ugalde</td>\n",
       "      <td>Death Force</td>\n",
       "      <td>1978</td>\n",
       "    </tr>\n",
       "    <tr>\n",
       "      <th>5637</th>\n",
       "      <td>40893</td>\n",
       "      <td>Evgen Khovostyank</td>\n",
       "      <td>Block-Heads</td>\n",
       "      <td>1938</td>\n",
       "    </tr>\n",
       "    <tr>\n",
       "      <th>17545</th>\n",
       "      <td>40800</td>\n",
       "      <td>Sanjay Khan</td>\n",
       "      <td>Blink</td>\n",
       "      <td>1994</td>\n",
       "    </tr>\n",
       "  </tbody>\n",
       "</table>\n",
       "</div>"
      ],
      "text/plain": [
       "         MID           Director                         Movie  Year\n",
       "9626   86819    Joel D. Wynkoop           Dimenticare Palermo  1990\n",
       "17965  39864      Shuji Kataoka           Black Scorpion, The  1957\n",
       "19131   9976     Thor L. Brooks                   Alaska Seas  1954\n",
       "3424   79510    Chung Ting (II)                David (1979/I)  1979\n",
       "19770  79634  Valeri Todorovsky   Davy Crockett, Indian Scout  1950\n",
       "11029  51442  Katsuya Matsumura  C't' ton tour, Laura Cadieux  1998\n",
       "13283  88766     Mehmet Özcelik                 Doc Hollywood  1991\n",
       "7630   81099      Hector Ugalde                   Death Force  1978\n",
       "5637   40893  Evgen Khovostyank                   Block-Heads  1938\n",
       "17545  40800        Sanjay Khan                         Blink  1994"
      ]
     },
     "execution_count": 10,
     "metadata": {},
     "output_type": "execute_result"
    }
   ],
   "source": [
    "director_df['Director'] = director_df['Director'].apply(change_regnal_number)\n",
    "director_df.sample(10)"
   ]
  },
  {
   "cell_type": "code",
   "execution_count": 11,
   "metadata": {},
   "outputs": [
    {
     "data": {
      "text/html": [
       "<div>\n",
       "<style scoped>\n",
       "    .dataframe tbody tr th:only-of-type {\n",
       "        vertical-align: middle;\n",
       "    }\n",
       "\n",
       "    .dataframe tbody tr th {\n",
       "        vertical-align: top;\n",
       "    }\n",
       "\n",
       "    .dataframe thead th {\n",
       "        text-align: right;\n",
       "    }\n",
       "</style>\n",
       "<table border=\"1\" class=\"dataframe\">\n",
       "  <thead>\n",
       "    <tr style=\"text-align: right;\">\n",
       "      <th></th>\n",
       "      <th>MID</th>\n",
       "      <th>Actor</th>\n",
       "      <th>Movie</th>\n",
       "      <th>Role</th>\n",
       "      <th>Year</th>\n",
       "    </tr>\n",
       "  </thead>\n",
       "  <tbody>\n",
       "    <tr>\n",
       "      <th>0</th>\n",
       "      <td>2</td>\n",
       "      <td>Darrell Armstrong (I)</td>\n",
       "      <td>$</td>\n",
       "      <td>Associated Press</td>\n",
       "      <td>1971</td>\n",
       "    </tr>\n",
       "    <tr>\n",
       "      <th>1</th>\n",
       "      <td>2</td>\n",
       "      <td>Warren Beatty</td>\n",
       "      <td>$</td>\n",
       "      <td>Joe Collins</td>\n",
       "      <td>1971</td>\n",
       "    </tr>\n",
       "    <tr>\n",
       "      <th>2</th>\n",
       "      <td>2</td>\n",
       "      <td>Scott Brady (I)</td>\n",
       "      <td>$</td>\n",
       "      <td>Sarge</td>\n",
       "      <td>1971</td>\n",
       "    </tr>\n",
       "    <tr>\n",
       "      <th>3</th>\n",
       "      <td>2</td>\n",
       "      <td>Arthur Brauss</td>\n",
       "      <td>$</td>\n",
       "      <td>Candy Man</td>\n",
       "      <td>1971</td>\n",
       "    </tr>\n",
       "    <tr>\n",
       "      <th>4</th>\n",
       "      <td>2</td>\n",
       "      <td>Gert Fröbe</td>\n",
       "      <td>$</td>\n",
       "      <td>Mr. Kessel</td>\n",
       "      <td>1971</td>\n",
       "    </tr>\n",
       "  </tbody>\n",
       "</table>\n",
       "</div>"
      ],
      "text/plain": [
       "   MID                  Actor Movie              Role  Year\n",
       "0    2  Darrell Armstrong (I)     $  Associated Press  1971\n",
       "1    2          Warren Beatty     $       Joe Collins  1971\n",
       "2    2        Scott Brady (I)     $             Sarge  1971\n",
       "3    2          Arthur Brauss     $         Candy Man  1971\n",
       "4    2             Gert Fröbe     $        Mr. Kessel  1971"
      ]
     },
     "execution_count": 11,
     "metadata": {},
     "output_type": "execute_result"
    }
   ],
   "source": [
    "movie_df.head()"
   ]
  },
  {
   "cell_type": "markdown",
   "metadata": {},
   "source": [
    "두 테이블을 조인해서 다시 저장"
   ]
  },
  {
   "cell_type": "code",
   "execution_count": 12,
   "metadata": {},
   "outputs": [
    {
     "data": {
      "text/html": [
       "<div>\n",
       "<style scoped>\n",
       "    .dataframe tbody tr th:only-of-type {\n",
       "        vertical-align: middle;\n",
       "    }\n",
       "\n",
       "    .dataframe tbody tr th {\n",
       "        vertical-align: top;\n",
       "    }\n",
       "\n",
       "    .dataframe thead th {\n",
       "        text-align: right;\n",
       "    }\n",
       "</style>\n",
       "<table border=\"1\" class=\"dataframe\">\n",
       "  <thead>\n",
       "    <tr style=\"text-align: right;\">\n",
       "      <th></th>\n",
       "      <th>Actor</th>\n",
       "      <th>Director</th>\n",
       "      <th>Movie</th>\n",
       "      <th>Role</th>\n",
       "      <th>Year</th>\n",
       "    </tr>\n",
       "  </thead>\n",
       "  <tbody>\n",
       "    <tr>\n",
       "      <th>0</th>\n",
       "      <td>Darrell Armstrong (I)</td>\n",
       "      <td>Les 12 Poissons</td>\n",
       "      <td>$</td>\n",
       "      <td>Associated Press</td>\n",
       "      <td>1971</td>\n",
       "    </tr>\n",
       "    <tr>\n",
       "      <th>1</th>\n",
       "      <td>Warren Beatty</td>\n",
       "      <td>Les 12 Poissons</td>\n",
       "      <td>$</td>\n",
       "      <td>Joe Collins</td>\n",
       "      <td>1971</td>\n",
       "    </tr>\n",
       "    <tr>\n",
       "      <th>2</th>\n",
       "      <td>Scott Brady (I)</td>\n",
       "      <td>Les 12 Poissons</td>\n",
       "      <td>$</td>\n",
       "      <td>Sarge</td>\n",
       "      <td>1971</td>\n",
       "    </tr>\n",
       "    <tr>\n",
       "      <th>3</th>\n",
       "      <td>Arthur Brauss</td>\n",
       "      <td>Les 12 Poissons</td>\n",
       "      <td>$</td>\n",
       "      <td>Candy Man</td>\n",
       "      <td>1971</td>\n",
       "    </tr>\n",
       "    <tr>\n",
       "      <th>4</th>\n",
       "      <td>Gert Fröbe</td>\n",
       "      <td>Les 12 Poissons</td>\n",
       "      <td>$</td>\n",
       "      <td>Mr. Kessel</td>\n",
       "      <td>1971</td>\n",
       "    </tr>\n",
       "    <tr>\n",
       "      <th>5</th>\n",
       "      <td>Bob Herron</td>\n",
       "      <td>Les 12 Poissons</td>\n",
       "      <td>$</td>\n",
       "      <td>Bodyguard</td>\n",
       "      <td>1971</td>\n",
       "    </tr>\n",
       "    <tr>\n",
       "      <th>6</th>\n",
       "      <td>Horst Hesslein</td>\n",
       "      <td>Les 12 Poissons</td>\n",
       "      <td>$</td>\n",
       "      <td>Bruno</td>\n",
       "      <td>1971</td>\n",
       "    </tr>\n",
       "    <tr>\n",
       "      <th>7</th>\n",
       "      <td>Hans Hutter (I)</td>\n",
       "      <td>Les 12 Poissons</td>\n",
       "      <td>$</td>\n",
       "      <td>Karl</td>\n",
       "      <td>1971</td>\n",
       "    </tr>\n",
       "    <tr>\n",
       "      <th>8</th>\n",
       "      <td>Wolfgang Kieling</td>\n",
       "      <td>Les 12 Poissons</td>\n",
       "      <td>$</td>\n",
       "      <td>Granich</td>\n",
       "      <td>1971</td>\n",
       "    </tr>\n",
       "    <tr>\n",
       "      <th>9</th>\n",
       "      <td>Wolfgang Kuhlman</td>\n",
       "      <td>Les 12 Poissons</td>\n",
       "      <td>$</td>\n",
       "      <td>Furcoat</td>\n",
       "      <td>1971</td>\n",
       "    </tr>\n",
       "  </tbody>\n",
       "</table>\n",
       "</div>"
      ],
      "text/plain": [
       "                   Actor         Director Movie              Role  Year\n",
       "0  Darrell Armstrong (I)  Les 12 Poissons     $  Associated Press  1971\n",
       "1          Warren Beatty  Les 12 Poissons     $       Joe Collins  1971\n",
       "2        Scott Brady (I)  Les 12 Poissons     $             Sarge  1971\n",
       "3          Arthur Brauss  Les 12 Poissons     $         Candy Man  1971\n",
       "4             Gert Fröbe  Les 12 Poissons     $        Mr. Kessel  1971\n",
       "5             Bob Herron  Les 12 Poissons     $         Bodyguard  1971\n",
       "6         Horst Hesslein  Les 12 Poissons     $             Bruno  1971\n",
       "7        Hans Hutter (I)  Les 12 Poissons     $              Karl  1971\n",
       "8       Wolfgang Kieling  Les 12 Poissons     $           Granich  1971\n",
       "9       Wolfgang Kuhlman  Les 12 Poissons     $           Furcoat  1971"
      ]
     },
     "execution_count": 12,
     "metadata": {},
     "output_type": "execute_result"
    }
   ],
   "source": [
    "joined_df = pd.merge(left=movie_df, right=director_df, how='inner', on=['MID', 'Movie', 'Year'])\n",
    "joined_df = joined_df.drop('MID', axis=1)\n",
    "joined_df = joined_df[['Actor', 'Director', 'Movie', 'Role', 'Year']]\n",
    "joined_df.head(10)"
   ]
  },
  {
   "cell_type": "code",
   "execution_count": 13,
   "metadata": {},
   "outputs": [],
   "source": [
    "movie_df.to_csv('./data/movie_related_information.csv')\n",
    "director_df.to_csv('./data/director_related_information.csv')\n",
    "joined_df.to_csv('./data/joined_table.csv')"
   ]
  },
  {
   "cell_type": "code",
   "execution_count": 14,
   "metadata": {},
   "outputs": [],
   "source": [
    "movie_df = pd.read_csv('./data/movie_related_information.csv', index_col=[0])\n",
    "director_df = pd.read_csv('./data/director_related_information.csv', index_col=[0])\n",
    "joined_df = pd.read_csv('./data/joined_table.csv', index_col=[0])"
   ]
  },
  {
   "cell_type": "markdown",
   "metadata": {},
   "source": [
    "단어 토큰 준비"
   ]
  },
  {
   "cell_type": "code",
   "execution_count": 16,
   "metadata": {},
   "outputs": [
    {
     "data": {
      "text/plain": [
       "0         Darrell Armstrong (I)\n",
       "1                 Warren Beatty\n",
       "2               Scott Brady (I)\n",
       "3                 Arthur Brauss\n",
       "4                    Gert Fröbe\n",
       "                  ...          \n",
       "800109            Kevin Wiggins\n",
       "800110           Bronwyn Andrus\n",
       "800111       Christine McPeters\n",
       "800112         Jeanette Wiggins\n",
       "800113              Paige Witte\n",
       "Name: Actor, Length: 800114, dtype: object"
      ]
     },
     "execution_count": 16,
     "metadata": {},
     "output_type": "execute_result"
    }
   ],
   "source": [
    "joined_df['Actor']"
   ]
  },
  {
   "cell_type": "code",
   "execution_count": 4,
   "metadata": {},
   "outputs": [
    {
     "data": {
      "text/plain": [
       "(202880, 202880, 202880)"
      ]
     },
     "execution_count": 4,
     "metadata": {},
     "output_type": "execute_result"
    }
   ],
   "source": [
    "word_dict = {'[PAD]': 0, '[CLS]': 1, '[SEP]': 2, '[MASK]': 3}\n",
    "\n",
    "\n",
    "for col in joined_df.columns:\n",
    "    word_list = joined_df[col].tolist()\n",
    "    word_list = list(map(str, word_list))\n",
    "    word_list = list(set(word_list))\n",
    "    len_word_dict = len(word_dict)\n",
    "    for i, w in enumerate(word_list):\n",
    "        word_dict[w] = i + len_word_dict\n",
    "\n",
    "number_dict = {i: w for i, w in enumerate(word_dict)}\n",
    "vocab_size = len(number_dict)\n",
    "\n",
    "len(word_dict), len(number_dict), vocab_size"
   ]
  },
  {
   "cell_type": "code",
   "execution_count": 29,
   "metadata": {},
   "outputs": [],
   "source": [
    "word_dict = {'[PAD]': 0, '[CLS]': 1, '[SEP]': 2, '[MASK]': 3}\n",
    "word_dict_col = {}\n",
    "col_list = joined_df.columns.tolist()\n",
    "\n",
    "for col in joined_df.columns:\n",
    "    word_dict_col[col] = dict(word_dict)\n",
    "    word_list = joined_df[col].tolist()\n",
    "    word_list = list(map(str, word_list))\n",
    "    word_list = list(set(word_list))\n",
    "    len_word_dict = len(word_dict)\n",
    "    for i, w in enumerate(word_list):\n",
    "        word_dict_col[col][w] = i + len_word_dict\n",
    "\n",
    "number_dict_col = {c: {i: w for i, w in enumerate(word_dict_col[c])} for c in joined_df.columns }"
   ]
  },
  {
   "cell_type": "code",
   "execution_count": 34,
   "metadata": {},
   "outputs": [
    {
     "data": {
      "text/plain": [
       "(['Casey Kern',\n",
       "  'Rocky Marciano',\n",
       "  'Bob Dorian',\n",
       "  'Philippe Brigaud',\n",
       "  'Wolfgang Hillinger',\n",
       "  'Janette Bertrand',\n",
       "  'Inez Griffin',\n",
       "  'Danièle Gain',\n",
       "  'Sue Mitobe',\n",
       "  'Lucie Mannheim'],\n",
       " [18913, 51206, 16882, 5814, 57471, 51731, 57223, 83375, 74580, 15609])"
      ]
     },
     "execution_count": 34,
     "metadata": {},
     "output_type": "execute_result"
    }
   ],
   "source": [
    "import random\n",
    "\n",
    "random.sample(list(word_dict_col['Actor']), 10), random.sample(list(number_dict_col['Actor']), 10)"
   ]
  },
  {
   "cell_type": "markdown",
   "metadata": {},
   "source": [
    "joined dataframe을 복사하여 토큰 테이블로 바꾸기"
   ]
  },
  {
   "cell_type": "code",
   "execution_count": 36,
   "metadata": {},
   "outputs": [],
   "source": [
    "token_df = joined_df.copy()"
   ]
  },
  {
   "cell_type": "code",
   "execution_count": 37,
   "metadata": {},
   "outputs": [
    {
     "data": {
      "text/html": [
       "<div>\n",
       "<style scoped>\n",
       "    .dataframe tbody tr th:only-of-type {\n",
       "        vertical-align: middle;\n",
       "    }\n",
       "\n",
       "    .dataframe tbody tr th {\n",
       "        vertical-align: top;\n",
       "    }\n",
       "\n",
       "    .dataframe thead th {\n",
       "        text-align: right;\n",
       "    }\n",
       "</style>\n",
       "<table border=\"1\" class=\"dataframe\">\n",
       "  <thead>\n",
       "    <tr style=\"text-align: right;\">\n",
       "      <th></th>\n",
       "      <th>Actor</th>\n",
       "      <th>Director</th>\n",
       "      <th>Movie</th>\n",
       "      <th>Role</th>\n",
       "      <th>Year</th>\n",
       "    </tr>\n",
       "  </thead>\n",
       "  <tbody>\n",
       "    <tr>\n",
       "      <th>0</th>\n",
       "      <td>Darrell Armstrong (I)</td>\n",
       "      <td>Les 12 Poissons</td>\n",
       "      <td>$</td>\n",
       "      <td>Associated Press</td>\n",
       "      <td>1971</td>\n",
       "    </tr>\n",
       "    <tr>\n",
       "      <th>1</th>\n",
       "      <td>Warren Beatty</td>\n",
       "      <td>Les 12 Poissons</td>\n",
       "      <td>$</td>\n",
       "      <td>Joe Collins</td>\n",
       "      <td>1971</td>\n",
       "    </tr>\n",
       "    <tr>\n",
       "      <th>2</th>\n",
       "      <td>Scott Brady (I)</td>\n",
       "      <td>Les 12 Poissons</td>\n",
       "      <td>$</td>\n",
       "      <td>Sarge</td>\n",
       "      <td>1971</td>\n",
       "    </tr>\n",
       "    <tr>\n",
       "      <th>3</th>\n",
       "      <td>Arthur Brauss</td>\n",
       "      <td>Les 12 Poissons</td>\n",
       "      <td>$</td>\n",
       "      <td>Candy Man</td>\n",
       "      <td>1971</td>\n",
       "    </tr>\n",
       "    <tr>\n",
       "      <th>4</th>\n",
       "      <td>Gert Fröbe</td>\n",
       "      <td>Les 12 Poissons</td>\n",
       "      <td>$</td>\n",
       "      <td>Mr. Kessel</td>\n",
       "      <td>1971</td>\n",
       "    </tr>\n",
       "  </tbody>\n",
       "</table>\n",
       "</div>"
      ],
      "text/plain": [
       "                   Actor         Director Movie              Role  Year\n",
       "0  Darrell Armstrong (I)  Les 12 Poissons     $  Associated Press  1971\n",
       "1          Warren Beatty  Les 12 Poissons     $       Joe Collins  1971\n",
       "2        Scott Brady (I)  Les 12 Poissons     $             Sarge  1971\n",
       "3          Arthur Brauss  Les 12 Poissons     $         Candy Man  1971\n",
       "4             Gert Fröbe  Les 12 Poissons     $        Mr. Kessel  1971"
      ]
     },
     "execution_count": 37,
     "metadata": {},
     "output_type": "execute_result"
    }
   ],
   "source": [
    "token_df.head()"
   ]
  },
  {
   "cell_type": "code",
   "execution_count": 38,
   "metadata": {},
   "outputs": [],
   "source": [
    "for col in token_df.columns:\n",
    "    token_df[col] = token_df[col].apply(lambda x: str(x))"
   ]
  },
  {
   "cell_type": "code",
   "execution_count": 39,
   "metadata": {},
   "outputs": [
    {
     "data": {
      "text/html": [
       "<div>\n",
       "<style scoped>\n",
       "    .dataframe tbody tr th:only-of-type {\n",
       "        vertical-align: middle;\n",
       "    }\n",
       "\n",
       "    .dataframe tbody tr th {\n",
       "        vertical-align: top;\n",
       "    }\n",
       "\n",
       "    .dataframe thead th {\n",
       "        text-align: right;\n",
       "    }\n",
       "</style>\n",
       "<table border=\"1\" class=\"dataframe\">\n",
       "  <thead>\n",
       "    <tr style=\"text-align: right;\">\n",
       "      <th></th>\n",
       "      <th>Actor</th>\n",
       "      <th>Director</th>\n",
       "      <th>Movie</th>\n",
       "      <th>Role</th>\n",
       "      <th>Year</th>\n",
       "    </tr>\n",
       "  </thead>\n",
       "  <tbody>\n",
       "    <tr>\n",
       "      <th>0</th>\n",
       "      <td>Darrell Armstrong (I)</td>\n",
       "      <td>Les 12 Poissons</td>\n",
       "      <td>$</td>\n",
       "      <td>Associated Press</td>\n",
       "      <td>1971</td>\n",
       "    </tr>\n",
       "    <tr>\n",
       "      <th>1</th>\n",
       "      <td>Warren Beatty</td>\n",
       "      <td>Les 12 Poissons</td>\n",
       "      <td>$</td>\n",
       "      <td>Joe Collins</td>\n",
       "      <td>1971</td>\n",
       "    </tr>\n",
       "    <tr>\n",
       "      <th>2</th>\n",
       "      <td>Scott Brady (I)</td>\n",
       "      <td>Les 12 Poissons</td>\n",
       "      <td>$</td>\n",
       "      <td>Sarge</td>\n",
       "      <td>1971</td>\n",
       "    </tr>\n",
       "    <tr>\n",
       "      <th>3</th>\n",
       "      <td>Arthur Brauss</td>\n",
       "      <td>Les 12 Poissons</td>\n",
       "      <td>$</td>\n",
       "      <td>Candy Man</td>\n",
       "      <td>1971</td>\n",
       "    </tr>\n",
       "    <tr>\n",
       "      <th>4</th>\n",
       "      <td>Gert Fröbe</td>\n",
       "      <td>Les 12 Poissons</td>\n",
       "      <td>$</td>\n",
       "      <td>Mr. Kessel</td>\n",
       "      <td>1971</td>\n",
       "    </tr>\n",
       "  </tbody>\n",
       "</table>\n",
       "</div>"
      ],
      "text/plain": [
       "                   Actor         Director Movie              Role  Year\n",
       "0  Darrell Armstrong (I)  Les 12 Poissons     $  Associated Press  1971\n",
       "1          Warren Beatty  Les 12 Poissons     $       Joe Collins  1971\n",
       "2        Scott Brady (I)  Les 12 Poissons     $             Sarge  1971\n",
       "3          Arthur Brauss  Les 12 Poissons     $         Candy Man  1971\n",
       "4             Gert Fröbe  Les 12 Poissons     $        Mr. Kessel  1971"
      ]
     },
     "execution_count": 39,
     "metadata": {},
     "output_type": "execute_result"
    }
   ],
   "source": [
    "token_df.head()"
   ]
  },
  {
   "cell_type": "code",
   "execution_count": 40,
   "metadata": {},
   "outputs": [
    {
     "data": {
      "text/plain": [
       "str"
      ]
     },
     "execution_count": 40,
     "metadata": {},
     "output_type": "execute_result"
    }
   ],
   "source": [
    "type(token_df['Year'][0])"
   ]
  },
  {
   "cell_type": "code",
   "execution_count": 41,
   "metadata": {},
   "outputs": [
    {
     "data": {
      "text/html": [
       "<div>\n",
       "<style scoped>\n",
       "    .dataframe tbody tr th:only-of-type {\n",
       "        vertical-align: middle;\n",
       "    }\n",
       "\n",
       "    .dataframe tbody tr th {\n",
       "        vertical-align: top;\n",
       "    }\n",
       "\n",
       "    .dataframe thead th {\n",
       "        text-align: right;\n",
       "    }\n",
       "</style>\n",
       "<table border=\"1\" class=\"dataframe\">\n",
       "  <thead>\n",
       "    <tr style=\"text-align: right;\">\n",
       "      <th></th>\n",
       "      <th>Actor</th>\n",
       "      <th>Director</th>\n",
       "      <th>Movie</th>\n",
       "      <th>Role</th>\n",
       "      <th>Year</th>\n",
       "    </tr>\n",
       "  </thead>\n",
       "  <tbody>\n",
       "    <tr>\n",
       "      <th>0</th>\n",
       "      <td>35751</td>\n",
       "      <td>6368</td>\n",
       "      <td>6913</td>\n",
       "      <td>73199</td>\n",
       "      <td>12</td>\n",
       "    </tr>\n",
       "    <tr>\n",
       "      <th>1</th>\n",
       "      <td>11705</td>\n",
       "      <td>6368</td>\n",
       "      <td>6913</td>\n",
       "      <td>53603</td>\n",
       "      <td>12</td>\n",
       "    </tr>\n",
       "    <tr>\n",
       "      <th>2</th>\n",
       "      <td>66357</td>\n",
       "      <td>6368</td>\n",
       "      <td>6913</td>\n",
       "      <td>42415</td>\n",
       "      <td>12</td>\n",
       "    </tr>\n",
       "    <tr>\n",
       "      <th>3</th>\n",
       "      <td>73965</td>\n",
       "      <td>6368</td>\n",
       "      <td>6913</td>\n",
       "      <td>287</td>\n",
       "      <td>12</td>\n",
       "    </tr>\n",
       "    <tr>\n",
       "      <th>4</th>\n",
       "      <td>41111</td>\n",
       "      <td>6368</td>\n",
       "      <td>6913</td>\n",
       "      <td>57800</td>\n",
       "      <td>12</td>\n",
       "    </tr>\n",
       "  </tbody>\n",
       "</table>\n",
       "</div>"
      ],
      "text/plain": [
       "   Actor  Director  Movie   Role  Year\n",
       "0  35751      6368   6913  73199    12\n",
       "1  11705      6368   6913  53603    12\n",
       "2  66357      6368   6913  42415    12\n",
       "3  73965      6368   6913    287    12\n",
       "4  41111      6368   6913  57800    12"
      ]
     },
     "execution_count": 41,
     "metadata": {},
     "output_type": "execute_result"
    }
   ],
   "source": [
    "def change_to_token(entity, col):\n",
    "    return word_dict_col[col][entity]\n",
    "\n",
    "for col in token_df.columns:\n",
    "    token_df[col] = token_df[col].apply(change_to_token, args=(col,))\n",
    "\n",
    "token_df.head()"
   ]
  },
  {
   "cell_type": "code",
   "execution_count": 46,
   "metadata": {},
   "outputs": [
    {
     "name": "stdout",
     "output_type": "stream",
     "text": [
      "Darrell Armstrong (I), Les 12 Poissons, $, Associated Press, 1971, "
     ]
    }
   ],
   "source": [
    "for i, entity in enumerate(token_df.iloc[0, :].values):\n",
    "    print(number_dict_col[col_list[i]][entity], end=', ')"
   ]
  },
  {
   "cell_type": "markdown",
   "metadata": {},
   "source": [
    "토큰 테이블 저장"
   ]
  },
  {
   "cell_type": "code",
   "execution_count": 47,
   "metadata": {},
   "outputs": [],
   "source": [
    "token_df.to_csv('./data/token_table.csv')"
   ]
  },
  {
   "cell_type": "code",
   "execution_count": 48,
   "metadata": {},
   "outputs": [
    {
     "data": {
      "text/plain": [
       "{'[PAD]': 0, '[CLS]': 1, '[SEP]': 2, '[MASK]': 3}"
      ]
     },
     "execution_count": 48,
     "metadata": {},
     "output_type": "execute_result"
    }
   ],
   "source": []
  },
  {
   "cell_type": "code",
   "execution_count": null,
   "metadata": {},
   "outputs": [],
   "source": []
  }
 ],
 "metadata": {
  "kernelspec": {
   "display_name": "Python 3.8.12 ('mytorch')",
   "language": "python",
   "name": "python3"
  },
  "language_info": {
   "codemirror_mode": {
    "name": "ipython",
    "version": 3
   },
   "file_extension": ".py",
   "mimetype": "text/x-python",
   "name": "python",
   "nbconvert_exporter": "python",
   "pygments_lexer": "ipython3",
   "version": "3.8.12"
  },
  "orig_nbformat": 4,
  "vscode": {
   "interpreter": {
    "hash": "b4a27c98caeaa5630be10b8d406a4608184d11e4add7ee29d27ce8c7f4d0bc9a"
   }
  }
 },
 "nbformat": 4,
 "nbformat_minor": 2
}
